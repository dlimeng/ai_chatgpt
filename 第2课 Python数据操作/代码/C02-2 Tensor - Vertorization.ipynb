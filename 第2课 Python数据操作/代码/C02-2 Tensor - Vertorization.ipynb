{
 "cells": [
  {
   "metadata": {
    "trusted": true
   },
   "cell_type": "code",
   "source": [
    "import numpy as np # 导入NumPy数学工具集\n",
    "list=[1,2,3,4,5] # 创建列表\n",
    "array_01=np.array([1,2,3,4,5]) # 列表转化成数组\n",
    "array_02=np.array((6,7,8,9,10)) # 元组转化成数组\n",
    "array_03=np.array([[1,2,3],[4,5,6]]) # 列表转化成2D数组\n",
    "print ('列表：', list)\n",
    "print ('列表转化为数组：', array_01)\n",
    "print ('元组转化为数组：', array_02)\n",
    "print ('2D数组：', array_03)\n",
    "print ('数组的形状：', array_01.shape)\n",
    "# print ('列表的形状：', list.shape) # 列表没有形状，程序会报错"
   ],
   "execution_count": 1,
   "outputs": [
    {
     "output_type": "stream",
     "text": "列表： [1, 2, 3, 4, 5]\n列表转化为数组： [1 2 3 4 5]\n元组转化为数组： [ 6  7  8  9 10]\n2D数组： [[1 2 3]\n [4 5 6]]\n数组的形状： (5,)\n",
     "name": "stdout"
    }
   ]
  },
  {
   "metadata": {
    "trusted": true
   },
   "cell_type": "code",
   "source": [
    "array_04=np.arange(1,5,1) # 通过arange函数生成数组\n",
    "array_05=np.linspace(1,5,5) # 通过linspace函数生成数组\n",
    "print (array_04)\n",
    "print (array_05)"
   ],
   "execution_count": 2,
   "outputs": [
    {
     "output_type": "stream",
     "text": "[1 2 3 4]\n[1. 2. 3. 4. 5.]\n",
     "name": "stdout"
    }
   ]
  },
  {
   "metadata": {
    "trusted": true
   },
   "cell_type": "code",
   "source": [
    "array_06 = np.arange(10)\n",
    "print (array_06)\n",
    "index_01 = array_06[3] # 索引-第4个元素\n",
    "print ('第4个元素', index_01)\n",
    "index_02 = array_06[-1] # 索引-最后一个元素\n",
    "print ('第-1个元素', index_02)\n",
    "slice_01 = array_06[:4] # 从0到4切片\n",
    "print ('从0到4切片', slice_01)\n",
    "slice_02 = array_06[0:12:4] # 从0到12切片，步长为2\n",
    "print ('从0到12切片，步长为4', slice_02)"
   ],
   "execution_count": 3,
   "outputs": [
    {
     "output_type": "stream",
     "text": "[0 1 2 3 4 5 6 7 8 9]\n第4个元素 3\n第-1个元素 9\n从0到4切片 [0 1 2 3]\n从0到12切片，步长为4 [0 4 8]\n",
     "name": "stdout"
    }
   ]
  },
  {
   "metadata": {
    "trusted": true
   },
   "cell_type": "code",
   "source": [
    "from keras.datasets import mnist #需要打开internet选项)\n",
    "(X_train, y_train), (X_test, y_test) = mnist.load_data()\n",
    "print (X_train.shape)\n",
    "X_train_slice = X_train[10000:15000,:,:]"
   ],
   "execution_count": 4,
   "outputs": [
    {
     "output_type": "stream",
     "text": "Using TensorFlow backend.\n",
     "name": "stderr"
    },
    {
     "output_type": "stream",
     "text": "Downloading data from https://s3.amazonaws.com/img-datasets/mnist.npz\n11493376/11490434 [==============================] - 1s 0us/step\n(60000, 28, 28)\n",
     "name": "stdout"
    }
   ]
  },
  {
   "metadata": {
    "trusted": true
   },
   "cell_type": "code",
   "source": [
    "array_07 = np.array([[1,2,3],[4,5,6]])\n",
    "print (array_07[1:2],'它的形状是', array_07[1:2].shape) \n",
    "print (array_07[1:2][0], '它的形状又不同了', array_07[1:2][0].shape)"
   ],
   "execution_count": 5,
   "outputs": [
    {
     "output_type": "stream",
     "text": "[[4 5 6]] 它的形状是 (1, 3)\n[4 5 6] 它的形状又不同了 (3,)\n",
     "name": "stdout"
    }
   ]
  },
  {
   "metadata": {
    "trusted": true
   },
   "cell_type": "code",
   "source": [
    "array_07 += 1 # 数组内全部元素加1\n",
    "print (array_07)"
   ],
   "execution_count": 6,
   "outputs": [
    {
     "output_type": "stream",
     "text": "[[2 3 4]\n [5 6 7]]\n",
     "name": "stdout"
    }
   ]
  },
  {
   "metadata": {
    "trusted": true
   },
   "cell_type": "code",
   "source": [
    "for i in range(array_07.shape[0]):\n",
    "    for j in range(array_07.shape[1]):\n",
    "        array_07[i,j] += 1"
   ],
   "execution_count": 7,
   "outputs": []
  },
  {
   "metadata": {
    "trusted": true
   },
   "cell_type": "code",
   "source": [
    "print (np.sqrt(array_07)) #打印每一个元素的平方根"
   ],
   "execution_count": 8,
   "outputs": [
    {
     "output_type": "stream",
     "text": "[[1.73205081 2.         2.23606798]\n [2.44948974 2.64575131 2.82842712]]\n",
     "name": "stdout"
    }
   ]
  },
  {
   "metadata": {
    "trusted": true
   },
   "cell_type": "code",
   "source": [
    "print (array_07,'形状是', array_07.shape) \n",
    "print (array_07.reshape(3,2), '形状是', array_07.reshape(3,2).shape)"
   ],
   "execution_count": 9,
   "outputs": [
    {
     "output_type": "stream",
     "text": "[[3 4 5]\n [6 7 8]] 形状是 (2, 3)\n[[3 4]\n [5 6]\n [7 8]] 形状是 (3, 2)\n",
     "name": "stdout"
    }
   ]
  },
  {
   "metadata": {
    "trusted": true
   },
   "cell_type": "code",
   "source": [
    "array_07 = array_07.reshape(3,2) #进行赋值才能改变数组本身"
   ],
   "execution_count": 10,
   "outputs": []
  },
  {
   "metadata": {
    "trusted": true
   },
   "cell_type": "code",
   "source": [
    "array_07 = array_07.T # 矩阵的转置"
   ],
   "execution_count": 11,
   "outputs": []
  },
  {
   "metadata": {
    "trusted": true
   },
   "cell_type": "code",
   "source": [
    "array_06 = np.arange(10)\n",
    "print (array_06,'形状是', array_06.shape,'阶为', array_06.ndim) \n",
    "array_06 = array_06.reshape(10,1)\n",
    "print (array_06,'形状是', array_06.shape,'阶为', array_06.ndim)\n"
   ],
   "execution_count": 12,
   "outputs": [
    {
     "output_type": "stream",
     "text": "[0 1 2 3 4 5 6 7 8 9] 形状是 (10,) 阶为 1\n[[0]\n [1]\n [2]\n [3]\n [4]\n [5]\n [6]\n [7]\n [8]\n [9]] 形状是 (10, 1) 阶为 2\n",
     "name": "stdout"
    }
   ]
  },
  {
   "metadata": {
    "trusted": true
   },
   "cell_type": "code",
   "source": [
    "array_08 = np.array([[0,0,0], [10,10,10], [20,20,20], [30,30,30]])\n",
    "array_09 = np.array([[0,1,2]])\n",
    "array_10 = np.array([[0],[1],[2],[3]])\n",
    "list_11 = [[0,1,2]]\n",
    "print ('array_09的形状:', array_09.shape )\n",
    "print ('array_10的形状:', array_10.shape )\n",
    "array_12 = array_09.reshape(3)\n",
    "print ('array_12的形状:', array_12.shape )\n",
    "array_13 = np.array([1])\n",
    "print ('array_13的形状:', array_13.shape )\n",
    "array_14 = array_13.reshape(1,1)\n",
    "print ('array_14的形状:', array_14.shape )\n",
    "print ('08 + 09结果：',array_08 + array_09)\n",
    "print ('08 + 10结果：',array_08 + array_10)\n",
    "print ('08 + 11结果：',array_08 + list_11)\n",
    "print ('08 + 12结果：',array_08 + array_12)\n",
    "print ('08 + 13结果：',array_08 + array_13)\n",
    "print ('08 + 14结果：',array_08 + array_14)"
   ],
   "execution_count": 13,
   "outputs": [
    {
     "output_type": "stream",
     "text": "array_09的形状: (1, 3)\narray_10的形状: (4, 1)\narray_12的形状: (3,)\narray_13的形状: (1,)\narray_14的形状: (1, 1)\n08 + 09结果： [[ 0  1  2]\n [10 11 12]\n [20 21 22]\n [30 31 32]]\n08 + 10结果： [[ 0  0  0]\n [11 11 11]\n [22 22 22]\n [33 33 33]]\n08 + 11结果： [[ 0  1  2]\n [10 11 12]\n [20 21 22]\n [30 31 32]]\n08 + 12结果： [[ 0  1  2]\n [10 11 12]\n [20 21 22]\n [30 31 32]]\n08 + 13结果： [[ 1  1  1]\n [11 11 11]\n [21 21 21]\n [31 31 31]]\n08 + 14结果： [[ 1  1  1]\n [11 11 11]\n [21 21 21]\n [31 31 31]]\n",
     "name": "stdout"
    }
   ]
  },
  {
   "metadata": {
    "trusted": true
   },
   "cell_type": "code",
   "source": [
    "vector_01 = np.array([1,2,3])\n",
    "vector_02 = np.array([[1],[2],[3]])\n",
    "vector_03 = np.array([2])\n",
    "vector_04 = vector_02.reshape(1,3)\n",
    "print ('vector_01的形状:', vector_01.shape)\n",
    "print ('vector_02的形状:', vector_02.shape)\n",
    "print ('vector_03的形状:', vector_03.shape)\n",
    "print ('vector_04的形状:', vector_04.shape)\n",
    "print ('01和01的点积:', np.dot(vector_01,vector_01))\n",
    "print ('01和02的点积:', np.dot(vector_01,vector_02))\n",
    "print ('04和02的点积:', np.dot(vector_04,vector_02))\n",
    "print ('01和数字的点积:', np.dot(vector_01,2))\n",
    "print ('02和03的点积:', np.dot(vector_02,vector_03))\n",
    "print ('02和04的点积:', np.dot(vector_02,vector_04))\n",
    "# print ('01和03的点积:', np.dot(vector_01,vector_03)) # 程序会报错\n",
    "# print ('02和02的点积:', np.dot(vector_02,vector_02))"
   ],
   "execution_count": 14,
   "outputs": [
    {
     "output_type": "stream",
     "text": "vector_01的形状: (3,)\nvector_01的形状: (3, 1)\nvector_01的形状: (1,)\nvector_01的形状: (1, 3)\n01和01的点积: 14\n01和02的点积: [14]\n04和02的点积: [[14]]\n01和数字的点积: [2 4 6]\n02和03的点积: [2 4 6]\n02和04的点积: [[1 2 3]\n [2 4 6]\n [3 6 9]]\n",
     "name": "stdout"
    }
   ]
  },
  {
   "metadata": {
    "trusted": true
   },
   "cell_type": "code",
   "source": [
    "matrix_01 = np.arange(0,6).reshape(2,3)\n",
    "matrix_02 = np.arange(0,6).reshape(3,2)\n",
    "print(matrix_01)\n",
    "print(matrix_02)\n",
    "print ('01和02的点积:', np.dot(matrix_01,matrix_02))\n",
    "print ('02和01的点积:', np.dot(matrix_02,matrix_01))\n",
    "print ('01和01的点积:', np.dot(matrix_01,matrix_01))"
   ],
   "execution_count": 15,
   "outputs": [
    {
     "output_type": "stream",
     "text": "[[0 1 2]\n [3 4 5]]\n[[0 1]\n [2 3]\n [4 5]]\n01和02的点积: [[10 13]\n [28 40]]\n02和01的点积: [[ 3  4  5]\n [ 9 14 19]\n [15 24 33]]\n",
     "name": "stdout"
    },
    {
     "output_type": "error",
     "ename": "ValueError",
     "evalue": "shapes (2,3) and (2,3) not aligned: 3 (dim 1) != 2 (dim 0)",
     "traceback": [
      "\u001B[0;31m---------------------------------------------------------------------------\u001B[0m",
      "\u001B[0;31mValueError\u001B[0m                                Traceback (most recent call last)",
      "\u001B[0;32m<ipython-input-15-dd9ea09bfa48>\u001B[0m in \u001B[0;36m<module>\u001B[0;34m\u001B[0m\n\u001B[1;32m      5\u001B[0m \u001B[0mprint\u001B[0m \u001B[0;34m(\u001B[0m\u001B[0;34m'01和02的点积:'\u001B[0m\u001B[0;34m,\u001B[0m \u001B[0mnp\u001B[0m\u001B[0;34m.\u001B[0m\u001B[0mdot\u001B[0m\u001B[0;34m(\u001B[0m\u001B[0mmatrix_01\u001B[0m\u001B[0;34m,\u001B[0m\u001B[0mmatrix_02\u001B[0m\u001B[0;34m)\u001B[0m\u001B[0;34m)\u001B[0m\u001B[0;34m\u001B[0m\u001B[0;34m\u001B[0m\u001B[0m\n\u001B[1;32m      6\u001B[0m \u001B[0mprint\u001B[0m \u001B[0;34m(\u001B[0m\u001B[0;34m'02和01的点积:'\u001B[0m\u001B[0;34m,\u001B[0m \u001B[0mnp\u001B[0m\u001B[0;34m.\u001B[0m\u001B[0mdot\u001B[0m\u001B[0;34m(\u001B[0m\u001B[0mmatrix_02\u001B[0m\u001B[0;34m,\u001B[0m\u001B[0mmatrix_01\u001B[0m\u001B[0;34m)\u001B[0m\u001B[0;34m)\u001B[0m\u001B[0;34m\u001B[0m\u001B[0;34m\u001B[0m\u001B[0m\n\u001B[0;32m----> 7\u001B[0;31m \u001B[0mprint\u001B[0m \u001B[0;34m(\u001B[0m\u001B[0;34m'01和01的点积:'\u001B[0m\u001B[0;34m,\u001B[0m \u001B[0mnp\u001B[0m\u001B[0;34m.\u001B[0m\u001B[0mdot\u001B[0m\u001B[0;34m(\u001B[0m\u001B[0mmatrix_01\u001B[0m\u001B[0;34m,\u001B[0m\u001B[0mmatrix_01\u001B[0m\u001B[0;34m)\u001B[0m\u001B[0;34m)\u001B[0m\u001B[0;34m\u001B[0m\u001B[0;34m\u001B[0m\u001B[0m\n\u001B[0m",
      "\u001B[0;32m<__array_function__ internals>\u001B[0m in \u001B[0;36mdot\u001B[0;34m(*args, **kwargs)\u001B[0m\n",
      "\u001B[0;31mValueError\u001B[0m: shapes (2,3) and (2,3) not aligned: 3 (dim 1) != 2 (dim 0)"
     ]
    }
   ]
  }
 ],
 "metadata": {
  "kernelspec": {
   "language": "python",
   "display_name": "Python 3",
   "name": "python3"
  },
  "language_info": {
   "pygments_lexer": "ipython3",
   "nbconvert_exporter": "python",
   "version": "3.6.4",
   "file_extension": ".py",
   "codemirror_mode": {
    "name": "ipython",
    "version": 3
   },
   "name": "python",
   "mimetype": "text/x-python"
  }
 },
 "nbformat": 4,
 "nbformat_minor": 4
}
